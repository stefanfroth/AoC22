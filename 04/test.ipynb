{
 "cells": [
  {
   "cell_type": "code",
   "execution_count": 2,
   "metadata": {},
   "outputs": [],
   "source": [
    "from itertools import groupby"
   ]
  },
  {
   "cell_type": "markdown",
   "metadata": {},
   "source": [
    "# Test Task 1"
   ]
  },
  {
   "cell_type": "code",
   "execution_count": 23,
   "metadata": {},
   "outputs": [
    {
     "data": {
      "text/plain": [
       "[['2-4', '6-8'],\n",
       " ['2-3', '4-5'],\n",
       " ['5-7', '7-9'],\n",
       " ['2-8', '3-7'],\n",
       " ['6-6', '4-6'],\n",
       " ['2-6', '4-8']]"
      ]
     },
     "execution_count": 23,
     "metadata": {},
     "output_type": "execute_result"
    }
   ],
   "source": [
    "with open(\"test.txt\", \"r\") as file:\n",
    "    lines = [line.strip().split(\",\") for line in file.readlines()]\n",
    "\n",
    "lines"
   ]
  },
  {
   "cell_type": "code",
   "execution_count": 29,
   "metadata": {},
   "outputs": [
    {
     "data": {
      "text/plain": [
       "{5}"
      ]
     },
     "execution_count": 29,
     "metadata": {},
     "output_type": "execute_result"
    }
   ],
   "source": [
    "set(list(range(5, 6)))"
   ]
  },
  {
   "cell_type": "code",
   "execution_count": 32,
   "metadata": {},
   "outputs": [
    {
     "data": {
      "text/plain": [
       "2"
      ]
     },
     "execution_count": 32,
     "metadata": {},
     "output_type": "execute_result"
    }
   ],
   "source": [
    "full_containments = 0\n",
    "for line in lines:\n",
    "    set_one_start, set_one_end = line[0].split(\"-\")\n",
    "    set_two_start, set_two_end = line[1].split(\"-\")\n",
    "    set_one = set(list(range(int(set_one_start), int(set_one_end)+1)))\n",
    "    set_two = set(list(range(int(set_two_start), int(set_two_end)+1)))\n",
    "    if set_one <= set_two or set_two <= set_one:\n",
    "        full_containments += 1\n",
    "\n",
    "full_containments"
   ]
  },
  {
   "cell_type": "code",
   "execution_count": 9,
   "metadata": {},
   "outputs": [
    {
     "data": {
      "text/plain": [
       "[['.234.....  2-4', '.....678.  6-8'],\n",
       " ['.23......  2-3', '...45....  4-5'],\n",
       " ['....567..  5-7', '......789  7-9'],\n",
       " ['.2345678.  2-8', '..34567..  3-7'],\n",
       " ['.....6...  6-6', '...456...  4-6'],\n",
       " ['.23456...  2-6', '...45678.  4-8']]"
      ]
     },
     "execution_count": 9,
     "metadata": {},
     "output_type": "execute_result"
    }
   ],
   "source": [
    "test = [list(g) for k, g in groupby(lines, key=bool) if k is True]\n",
    "\n",
    "test"
   ]
  },
  {
   "cell_type": "code",
   "execution_count": 15,
   "metadata": {},
   "outputs": [],
   "source": [
    "def clean_up_sets(input):\n",
    "    return set(input.split(\"  \")[0].replace(\".\", \"\"))"
   ]
  },
  {
   "cell_type": "code",
   "execution_count": 21,
   "metadata": {},
   "outputs": [
    {
     "data": {
      "text/plain": [
       "2"
      ]
     },
     "execution_count": 21,
     "metadata": {},
     "output_type": "execute_result"
    }
   ],
   "source": [
    "full_containments = 0\n",
    "for group in test:\n",
    "    group_zero = clean_up_sets(group[0])\n",
    "    group_one = clean_up_sets(group[1])\n",
    "    if group_zero <= group_one or group_one <= group_zero:\n",
    "        full_containments += 1\n",
    "\n",
    "full_containments"
   ]
  },
  {
   "cell_type": "code",
   "execution_count": 23,
   "metadata": {},
   "outputs": [
    {
     "ename": "SyntaxError",
     "evalue": "invalid syntax (911045085.py, line 1)",
     "output_type": "error",
     "traceback": [
      "\u001b[0;36m  File \u001b[0;32m\"/var/folders/yf/_bbg23s52ld02qcr9c_0gkz00000gn/T/ipykernel_1430/911045085.py\"\u001b[0;36m, line \u001b[0;32m1\u001b[0m\n\u001b[0;31m    comparisons = [set([int(value) for value in comparison[0].replace(\".\", \"\")]), set(list(range(int(comparison[1][0]), int(comparison[1][-1])+1))) for comparison in test]\u001b[0m\n\u001b[0m                                                                                                                                                    ^\u001b[0m\n\u001b[0;31mSyntaxError\u001b[0m\u001b[0;31m:\u001b[0m invalid syntax\n"
     ]
    }
   ],
   "source": [
    "comparisons = [set([int(value) for value in comparison[0].replace(\".\", \"\")]), set(list(range(int(comparison[1][0]), int(comparison[1][-1])+1))) for comparison in test]"
   ]
  },
  {
   "cell_type": "code",
   "execution_count": 20,
   "metadata": {},
   "outputs": [
    {
     "data": {
      "text/plain": [
       "{'2', '3', '4'}"
      ]
     },
     "execution_count": 20,
     "metadata": {},
     "output_type": "execute_result"
    }
   ],
   "source": [
    "set(test[0].replace(\".\", \"\"))"
   ]
  },
  {
   "cell_type": "code",
   "execution_count": 21,
   "metadata": {},
   "outputs": [
    {
     "data": {
      "text/plain": [
       "{2, 3, 4}"
      ]
     },
     "execution_count": 21,
     "metadata": {},
     "output_type": "execute_result"
    }
   ],
   "source": [
    "set(list(range(int(test[1][0]), int(test[1][-1])+1)))"
   ]
  },
  {
   "cell_type": "markdown",
   "metadata": {},
   "source": [
    "# Task 2"
   ]
  },
  {
   "cell_type": "code",
   "execution_count": 33,
   "metadata": {},
   "outputs": [
    {
     "data": {
      "text/plain": [
       "4"
      ]
     },
     "execution_count": 33,
     "metadata": {},
     "output_type": "execute_result"
    }
   ],
   "source": [
    "overlaps = 0\n",
    "for line in lines:\n",
    "    set_one_start, set_one_end = line[0].split(\"-\")\n",
    "    set_two_start, set_two_end = line[1].split(\"-\")\n",
    "    set_one = set(list(range(int(set_one_start), int(set_one_end)+1)))\n",
    "    set_two = set(list(range(int(set_two_start), int(set_two_end)+1)))\n",
    "    if set_one.intersection(set_two):\n",
    "        overlaps += 1\n",
    "\n",
    "overlaps"
   ]
  },
  {
   "cell_type": "code",
   "execution_count": null,
   "metadata": {},
   "outputs": [],
   "source": []
  }
 ],
 "metadata": {
  "kernelspec": {
   "display_name": "Python 3.9.13 ('base')",
   "language": "python",
   "name": "python3"
  },
  "language_info": {
   "codemirror_mode": {
    "name": "ipython",
    "version": 3
   },
   "file_extension": ".py",
   "mimetype": "text/x-python",
   "name": "python",
   "nbconvert_exporter": "python",
   "pygments_lexer": "ipython3",
   "version": "3.9.13"
  },
  "orig_nbformat": 4,
  "vscode": {
   "interpreter": {
    "hash": "40d3a090f54c6569ab1632332b64b2c03c39dcf918b08424e98f38b5ae0af88f"
   }
  }
 },
 "nbformat": 4,
 "nbformat_minor": 2
}
