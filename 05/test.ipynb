{
 "cells": [
  {
   "cell_type": "code",
   "execution_count": 3,
   "metadata": {},
   "outputs": [],
   "source": [
    "import pandas as pd"
   ]
  },
  {
   "cell_type": "markdown",
   "metadata": {},
   "source": [
    "## Extract the stacks"
   ]
  },
  {
   "cell_type": "code",
   "execution_count": 48,
   "metadata": {},
   "outputs": [],
   "source": [
    "stacks = {\n",
    "    1: [\"Z\", \"N\"],\n",
    "    2: [\"M\", \"C\", \"D\"],\n",
    "    3: [\"P\"]\n",
    "}"
   ]
  },
  {
   "cell_type": "code",
   "execution_count": 45,
   "metadata": {},
   "outputs": [],
   "source": [
    "df = pd.read_fwf(\"test.txt\", nrows=3, widths=[3, 5, 8], header=None, )"
   ]
  },
  {
   "cell_type": "code",
   "execution_count": 47,
   "metadata": {},
   "outputs": [
    {
     "data": {
      "text/plain": [
       "array([nan, '[N]', '[Z]'], dtype=object)"
      ]
     },
     "execution_count": 47,
     "metadata": {},
     "output_type": "execute_result"
    }
   ],
   "source": [
    "for value in df.iloc[:,0].values"
   ]
  },
  {
   "cell_type": "markdown",
   "metadata": {},
   "source": [
    "## Extract the moves"
   ]
  },
  {
   "cell_type": "code",
   "execution_count": 49,
   "metadata": {},
   "outputs": [
    {
     "data": {
      "text/plain": [
       "['move 1 from 2 to 1',\n",
       " 'move 3 from 1 to 3',\n",
       " 'move 2 from 2 to 1',\n",
       " 'move 1 from 1 to 2']"
      ]
     },
     "execution_count": 49,
     "metadata": {},
     "output_type": "execute_result"
    }
   ],
   "source": [
    "with open(\"test.txt\", \"r\") as file:\n",
    "    moves = []\n",
    "    for line in file:\n",
    "        if line.strip().startswith(\"move\"):\n",
    "            moves.append(line.strip())\n",
    "\n",
    "moves"
   ]
  },
  {
   "cell_type": "code",
   "execution_count": 50,
   "metadata": {},
   "outputs": [
    {
     "data": {
      "text/plain": [
       "[['1', '2', '1'], ['3', '1', '3'], ['2', '2', '1'], ['1', '1', '2']]"
      ]
     },
     "execution_count": 50,
     "metadata": {},
     "output_type": "execute_result"
    }
   ],
   "source": [
    "moves = [move.split(\" \")[1::2] for move in moves]\n",
    "moves"
   ]
  },
  {
   "cell_type": "markdown",
   "metadata": {},
   "source": [
    "## Move the crates"
   ]
  },
  {
   "cell_type": "code",
   "execution_count": 37,
   "metadata": {},
   "outputs": [
    {
     "name": "stdout",
     "output_type": "stream",
     "text": [
      "['1', '2', '1']\n",
      "['M', 'C'] ['Z', 'N', 'D']\n",
      "\n",
      "['3', '1', '3']\n",
      "['Z', 'N'] ['P', 'D']\n",
      "['Z'] ['P', 'D', 'N']\n",
      "[] ['P', 'D', 'N', 'Z']\n",
      "\n",
      "['2', '2', '1']\n",
      "['M'] ['C']\n",
      "[] ['C', 'M']\n",
      "\n",
      "['1', '1', '2']\n",
      "['C'] ['M']\n",
      "\n"
     ]
    }
   ],
   "source": [
    "for move in moves:\n",
    "    # print(move)\n",
    "    for _ in range(int(move[0])):\n",
    "        stacks[int(move[2])].append(stacks[int(move[1])].pop())\n",
    "    #     print(stacks[int(move[1])], stacks[int(move[2])])\n",
    "    # print()"
   ]
  },
  {
   "cell_type": "code",
   "execution_count": 42,
   "metadata": {},
   "outputs": [],
   "source": [
    "solution = \"\"\n",
    "for crates in stacks.values():\n",
    "    solution += crates[-1]"
   ]
  },
  {
   "cell_type": "code",
   "execution_count": 43,
   "metadata": {},
   "outputs": [
    {
     "data": {
      "text/plain": [
       "'CMZ'"
      ]
     },
     "execution_count": 43,
     "metadata": {},
     "output_type": "execute_result"
    }
   ],
   "source": [
    "solution"
   ]
  },
  {
   "cell_type": "markdown",
   "metadata": {},
   "source": [
    "# Task Two"
   ]
  },
  {
   "cell_type": "code",
   "execution_count": 58,
   "metadata": {},
   "outputs": [],
   "source": [
    "a = [1, 2]\n",
    "b = [2, 3, 4]"
   ]
  },
  {
   "cell_type": "code",
   "execution_count": 59,
   "metadata": {},
   "outputs": [
    {
     "data": {
      "text/plain": [
       "([1, 2, 3, 4], [2])"
      ]
     },
     "execution_count": 59,
     "metadata": {},
     "output_type": "execute_result"
    }
   ],
   "source": [
    "a.extend(b[-2:])\n",
    "del b[-2:]\n",
    "\n",
    "a, b"
   ]
  },
  {
   "cell_type": "code",
   "execution_count": 60,
   "metadata": {},
   "outputs": [
    {
     "name": "stdout",
     "output_type": "stream",
     "text": [
      "['1', '2', '1']\n",
      "['M', 'C'] ['Z', 'N', 'D']\n",
      "\n",
      "['3', '1', '3']\n",
      "[] ['P', 'Z', 'N', 'D']\n",
      "\n",
      "['2', '2', '1']\n",
      "[] ['M', 'C']\n",
      "\n",
      "['1', '1', '2']\n",
      "['M'] ['C']\n",
      "\n"
     ]
    }
   ],
   "source": [
    "for move in moves:\n",
    "    print(move)\n",
    "    stacks[int(move[2])].extend(stacks[int(move[1])][-int(move[0]):])\n",
    "    del stacks[int(move[1])][-int(move[0]):]\n",
    "    print(stacks[int(move[1])], stacks[int(move[2])])\n",
    "    print()"
   ]
  },
  {
   "cell_type": "code",
   "execution_count": 61,
   "metadata": {},
   "outputs": [
    {
     "data": {
      "text/plain": [
       "'MCD'"
      ]
     },
     "execution_count": 61,
     "metadata": {},
     "output_type": "execute_result"
    }
   ],
   "source": [
    "solution = \"\"\n",
    "for crates in stacks.values():\n",
    "    solution += crates[-1]\n",
    "\n",
    "solution"
   ]
  }
 ],
 "metadata": {
  "kernelspec": {
   "display_name": "Python 3.9.13 ('base')",
   "language": "python",
   "name": "python3"
  },
  "language_info": {
   "codemirror_mode": {
    "name": "ipython",
    "version": 3
   },
   "file_extension": ".py",
   "mimetype": "text/x-python",
   "name": "python",
   "nbconvert_exporter": "python",
   "pygments_lexer": "ipython3",
   "version": "3.9.13"
  },
  "orig_nbformat": 4,
  "vscode": {
   "interpreter": {
    "hash": "40d3a090f54c6569ab1632332b64b2c03c39dcf918b08424e98f38b5ae0af88f"
   }
  }
 },
 "nbformat": 4,
 "nbformat_minor": 2
}
