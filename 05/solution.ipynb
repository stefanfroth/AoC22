{
 "cells": [
  {
   "cell_type": "markdown",
   "metadata": {},
   "source": [
    "# Task 1"
   ]
  },
  {
   "cell_type": "markdown",
   "metadata": {},
   "source": [
    "## Extract stacks (manually)"
   ]
  },
  {
   "cell_type": "code",
   "execution_count": 50,
   "metadata": {},
   "outputs": [],
   "source": [
    "STACKS_TEST = {\n",
    "    1: [\"Z\", \"N\"],\n",
    "    2: [\"M\", \"C\", \"D\"],\n",
    "    3: [\"P\"]\n",
    "}"
   ]
  },
  {
   "cell_type": "code",
   "execution_count": 51,
   "metadata": {},
   "outputs": [],
   "source": [
    "STACKS = {\n",
    "    1: [\"F\", \"R\", \"W\"],\n",
    "    2: [\"P\", \"W\", \"V\", \"D\", \"C\", \"M\", \"H\", \"T\"],\n",
    "    3: [\"L\", \"N\", \"Z\", \"M\", \"P\"],\n",
    "    4: [\"R\", \"H\", \"C\", \"J\"],\n",
    "    5: [\"B\", \"T\", \"Q\", \"H\", \"G\", \"P\", \"C\"],\n",
    "    6: [\"Z\", \"F\", \"L\", \"W\", \"C\", \"G\"],\n",
    "    7: [\"C\", \"G\", \"J\", \"Z\", \"Q\", \"L\", \"V\", \"W\"],\n",
    "    8: [\"C\", \"V\", \"T\", \"W\", \"F\", \"R\", \"N\", \"P\"],\n",
    "    9: [\"V\", \"S\", \"R\", \"G\", \"H\", \"W\", \"J\"]\n",
    "}"
   ]
  },
  {
   "cell_type": "code",
   "execution_count": 52,
   "metadata": {},
   "outputs": [],
   "source": [
    "# I enterred the crates in the wrong order; they have to be turned around\n",
    "for keys, values in STACKS.items():\n",
    "    STACKS[keys] = values[::-1]"
   ]
  },
  {
   "cell_type": "code",
   "execution_count": 46,
   "metadata": {},
   "outputs": [],
   "source": [
    "def extract_moves(input_file):\n",
    "    with open(input_file, \"r\") as file:\n",
    "        moves = []\n",
    "        for line in file:\n",
    "            if line.strip().startswith(\"move\"):\n",
    "                moves.append(line.strip())\n",
    "        moves = [move.split(\" \")[1::2] for move in moves]\n",
    "    return moves"
   ]
  },
  {
   "cell_type": "code",
   "execution_count": 47,
   "metadata": {},
   "outputs": [],
   "source": [
    "def solve_one(input_file, stacks):\n",
    "    moves = extract_moves(input_file)\n",
    "    for move in moves:\n",
    "        for _ in range(int(move[0])):\n",
    "            stacks[int(move[2])].append(stacks[int(move[1])].pop())\n",
    "    \n",
    "    solution = \"\"\n",
    "    for crates in stacks.values():\n",
    "        solution += crates[-1]\n",
    "    return solution"
   ]
  },
  {
   "cell_type": "code",
   "execution_count": 49,
   "metadata": {},
   "outputs": [],
   "source": [
    "def solve_two(input_file, stacks):\n",
    "    moves = extract_moves(input_file)\n",
    "    for move in moves:\n",
    "        stacks[int(move[2])].extend(stacks[int(move[1])][-int(move[0]):])\n",
    "        del stacks[int(move[1])][-int(move[0]):]\n",
    "    \n",
    "    solution = \"\"\n",
    "    for crates in stacks.values():\n",
    "        solution += crates[-1]\n",
    "    return solution"
   ]
  },
  {
   "cell_type": "markdown",
   "metadata": {},
   "source": [
    "## Solve"
   ]
  },
  {
   "cell_type": "code",
   "execution_count": 19,
   "metadata": {},
   "outputs": [
    {
     "data": {
      "text/plain": [
       "'CMZ'"
      ]
     },
     "execution_count": 19,
     "metadata": {},
     "output_type": "execute_result"
    }
   ],
   "source": [
    "solve_one(\"test.txt\", STACKS_TEST)"
   ]
  },
  {
   "cell_type": "code",
   "execution_count": 48,
   "metadata": {},
   "outputs": [
    {
     "data": {
      "text/plain": [
       "'CVCWCRTVQ'"
      ]
     },
     "execution_count": 48,
     "metadata": {},
     "output_type": "execute_result"
    }
   ],
   "source": [
    "solve_one(\"input.txt\", STACKS)"
   ]
  },
  {
   "cell_type": "markdown",
   "metadata": {},
   "source": [
    "# Task 2"
   ]
  },
  {
   "cell_type": "code",
   "execution_count": 53,
   "metadata": {},
   "outputs": [
    {
     "data": {
      "text/plain": [
       "'MCD'"
      ]
     },
     "execution_count": 53,
     "metadata": {},
     "output_type": "execute_result"
    }
   ],
   "source": [
    "solve_two(\"test.txt\", STACKS_TEST)"
   ]
  },
  {
   "cell_type": "code",
   "execution_count": 54,
   "metadata": {},
   "outputs": [
    {
     "data": {
      "text/plain": [
       "'CNSCZWLVT'"
      ]
     },
     "execution_count": 54,
     "metadata": {},
     "output_type": "execute_result"
    }
   ],
   "source": [
    "solve_two(\"input.txt\", STACKS)"
   ]
  },
  {
   "cell_type": "code",
   "execution_count": null,
   "metadata": {},
   "outputs": [],
   "source": []
  }
 ],
 "metadata": {
  "kernelspec": {
   "display_name": "Python 3.9.13 ('base')",
   "language": "python",
   "name": "python3"
  },
  "language_info": {
   "codemirror_mode": {
    "name": "ipython",
    "version": 3
   },
   "file_extension": ".py",
   "mimetype": "text/x-python",
   "name": "python",
   "nbconvert_exporter": "python",
   "pygments_lexer": "ipython3",
   "version": "3.9.13"
  },
  "orig_nbformat": 4,
  "vscode": {
   "interpreter": {
    "hash": "40d3a090f54c6569ab1632332b64b2c03c39dcf918b08424e98f38b5ae0af88f"
   }
  }
 },
 "nbformat": 4,
 "nbformat_minor": 2
}
