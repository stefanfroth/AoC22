{
 "cells": [
  {
   "cell_type": "code",
   "execution_count": 1,
   "metadata": {},
   "outputs": [],
   "source": [
    "with open(\"input.txt\") as file:\n",
    "    moves = [line.strip() for line in file.readlines()]"
   ]
  },
  {
   "cell_type": "code",
   "execution_count": 2,
   "metadata": {},
   "outputs": [],
   "source": [
    "# First simulate the head movements\n",
    "position_head = (0, 0)\n",
    "positions_head = [position_head]"
   ]
  },
  {
   "cell_type": "code",
   "execution_count": 3,
   "metadata": {},
   "outputs": [],
   "source": [
    "for move in moves:\n",
    "    direction, steps = move.split(\" \")\n",
    "    steps = int(steps)\n",
    "    if direction == \"R\":\n",
    "        for step in range(steps):\n",
    "            position_head = (position_head[0], position_head[1]+1)\n",
    "            positions_head.append(position_head)\n",
    "    if direction == \"L\":\n",
    "        for step in range(steps):\n",
    "            position_head = (position_head[0], position_head[1]-1)\n",
    "            positions_head.append(position_head)\n",
    "    if direction == \"U\":\n",
    "        for step in range(steps):\n",
    "            position_head = (position_head[0]+1, position_head[1])\n",
    "            positions_head.append(position_head)\n",
    "    if direction == \"D\":\n",
    "        for step in range(steps):\n",
    "            position_head = (position_head[0]-1, position_head[1])\n",
    "            positions_head.append(position_head)"
   ]
  },
  {
   "cell_type": "code",
   "execution_count": 4,
   "metadata": {},
   "outputs": [],
   "source": [
    "position_tail = (0,0)\n",
    "x_tail, y_tail = position_tail\n",
    "positions_tail = [(0,0)]\n",
    "def simulate_movement(positions_leader, x_tail, y_tail):\n",
    "    positions_follower = [(x_tail,y_tail)]\n",
    "    for position in positions_leader:\n",
    "        # print(position, position_tail)\n",
    "        x_head, y_head = position\n",
    "        diff_x_abs = abs(x_head - x_tail)\n",
    "        diff_x = x_head - x_tail\n",
    "        diff_y_abs = abs(y_head - y_tail)\n",
    "        diff_y = y_head - y_tail\n",
    "        # If both axes are involved\n",
    "        if diff_y_abs != 0 and diff_x_abs != 0:\n",
    "            if diff_y_abs == 1 and diff_x_abs == 1:\n",
    "                # print(\"Nothing happening\")\n",
    "                continue\n",
    "            elif diff_x_abs == 2:\n",
    "                # print(\"Moving diagonally\")\n",
    "                x_tail += diff_x_abs/diff_x\n",
    "                y_tail += diff_y\n",
    "            elif diff_y_abs == 2:\n",
    "                # print(\"Moving diagonally\")\n",
    "                y_tail += diff_y_abs/diff_y\n",
    "                x_tail += diff_x\n",
    "\n",
    "        # If onle left right axis is involved\n",
    "        elif diff_x_abs == 1:\n",
    "            # print(\"Nothing happening\")\n",
    "            continue\n",
    "        elif diff_x_abs == 2:\n",
    "            # print(\"Moving up down\")\n",
    "            x_tail += diff_x_abs/diff_x\n",
    "        # If onle up down axis is involved\n",
    "        elif diff_y_abs == 1:\n",
    "            # print(\"Nothing happening\")\n",
    "            continue\n",
    "        elif diff_y_abs == 2:\n",
    "            # print(\"Moving right left\")\n",
    "            y_tail += diff_y_abs/diff_y\n",
    "        position_tail = (x_tail, y_tail)\n",
    "        positions_follower.append(position_tail)\n",
    "    return positions_follower\n",
    "        # print(position, position_tail)\n",
    "        # print()"
   ]
  },
  {
   "cell_type": "code",
   "execution_count": 5,
   "metadata": {},
   "outputs": [
    {
     "data": {
      "text/plain": [
       "5513"
      ]
     },
     "execution_count": 5,
     "metadata": {},
     "output_type": "execute_result"
    }
   ],
   "source": [
    "len(set(simulate_movement(positions_head, 0, 0)))"
   ]
  },
  {
   "attachments": {},
   "cell_type": "markdown",
   "metadata": {},
   "source": [
    "# Task 2"
   ]
  },
  {
   "cell_type": "code",
   "execution_count": 6,
   "metadata": {},
   "outputs": [],
   "source": [
    "positions_one = simulate_movement(positions_head, 0, 0)\n",
    "positions_two = simulate_movement(positions_one, 0, 0)\n",
    "positions_three = simulate_movement(positions_two, 0, 0)\n",
    "positions_four = simulate_movement(positions_three, 0, 0)\n",
    "positions_five = simulate_movement(positions_four, 0, 0)\n",
    "positions_six = simulate_movement(positions_five, 0, 0)\n",
    "positions_seven = simulate_movement(positions_six, 0, 0)\n",
    "positions_eight = simulate_movement(positions_seven, 0, 0)\n",
    "positions_nine = simulate_movement(positions_eight, 0, 0)"
   ]
  },
  {
   "cell_type": "code",
   "execution_count": 10,
   "metadata": {},
   "outputs": [
    {
     "data": {
      "text/plain": [
       "2231"
      ]
     },
     "execution_count": 10,
     "metadata": {},
     "output_type": "execute_result"
    }
   ],
   "source": [
    "len(set(positions_nine))"
   ]
  },
  {
   "cell_type": "code",
   "execution_count": null,
   "metadata": {},
   "outputs": [],
   "source": []
  }
 ],
 "metadata": {
  "kernelspec": {
   "display_name": "base",
   "language": "python",
   "name": "python3"
  },
  "language_info": {
   "codemirror_mode": {
    "name": "ipython",
    "version": 3
   },
   "file_extension": ".py",
   "mimetype": "text/x-python",
   "name": "python",
   "nbconvert_exporter": "python",
   "pygments_lexer": "ipython3",
   "version": "3.9.13"
  },
  "orig_nbformat": 4,
  "vscode": {
   "interpreter": {
    "hash": "40d3a090f54c6569ab1632332b64b2c03c39dcf918b08424e98f38b5ae0af88f"
   }
  }
 },
 "nbformat": 4,
 "nbformat_minor": 2
}
