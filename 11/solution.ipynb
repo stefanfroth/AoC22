{
 "cells": [
  {
   "cell_type": "code",
   "execution_count": 1,
   "metadata": {},
   "outputs": [],
   "source": [
    "from datetime import datetime\n",
    "import numpy as np\n",
    "import re"
   ]
  },
  {
   "cell_type": "code",
   "execution_count": 2,
   "metadata": {},
   "outputs": [],
   "source": [
    "with open(\"input.txt\") as file:\n",
    "    input = file.read()"
   ]
  },
  {
   "cell_type": "code",
   "execution_count": 5,
   "metadata": {},
   "outputs": [],
   "source": [
    "splits = [monkey.split(\"\\n\") for monkey in input.split(\"\\n\\n\")]"
   ]
  },
  {
   "cell_type": "code",
   "execution_count": 6,
   "metadata": {},
   "outputs": [],
   "source": [
    "class Monkey:\n",
    "    def __init__(self, id, items, operation, test_value, test_monkeys):\n",
    "        self.id = id\n",
    "        self.items = np.array([int(item) for item in items], dtype=np.object_)\n",
    "        self.operation = operation\n",
    "        self.test_value = test_value\n",
    "        self.test_monkeys = test_monkeys\n",
    "        self.inspections = 0\n",
    "    \n",
    "    def operate(self, divisor):\n",
    "        self.items = eval(self.operation, {\"old\": self.items})\n",
    "        self.items = np.array(list(map(lambda x: x%divisor, self.items)))\n",
    "        self.inspections += len(self.items)\n",
    "    \n",
    "    def test(self):\n",
    "        return np.array(list(map(lambda x: True if x == 0 else False, self.items%self.test_value)))\n",
    "    \n",
    "    def __repr__(self):\n",
    "        return f\"{self.id}, {self.items}, {self.operation}, {self.test_value}, {self.test_monkeys}, {self.inspections}\""
   ]
  },
  {
   "cell_type": "code",
   "execution_count": 7,
   "metadata": {},
   "outputs": [
    {
     "name": "stdout",
     "output_type": "stream",
     "text": [
      "8\n"
     ]
    }
   ],
   "source": [
    "monkeys = []\n",
    "for monkey in splits:\n",
    "    monkeys.append(\n",
    "        Monkey(\n",
    "            int(re.findall(\"\\d+\", monkey[0])[0]),\n",
    "            re.findall(\"\\d+\", monkey[1]),\n",
    "            monkey[2].split(\" = \")[1],\n",
    "            int(re.findall(\"\\d+\", monkey[3])[0]),\n",
    "            [int(re.findall(\"\\d+\", monkey[4])[0]), int(re.findall(\"\\d+\", monkey[5])[0])]\n",
    "        ))\n",
    "\n",
    "print(len(monkeys))"
   ]
  },
  {
   "cell_type": "code",
   "execution_count": 8,
   "metadata": {},
   "outputs": [
    {
     "data": {
      "text/plain": [
       "9699690"
      ]
     },
     "execution_count": 8,
     "metadata": {},
     "output_type": "execute_result"
    }
   ],
   "source": [
    "divisor = 1\n",
    "for monkey in monkeys:\n",
    "    divisor *= monkey.test_value\n",
    "\n",
    "divisor"
   ]
  },
  {
   "cell_type": "code",
   "execution_count": 9,
   "metadata": {},
   "outputs": [],
   "source": [
    "for i in range(10_000):\n",
    "    for monkey in monkeys:\n",
    "        if len(monkey.items) > 0:\n",
    "            monkey.operate(divisor)\n",
    "            filt = monkey.test()\n",
    "            monkeys[monkey.test_monkeys[0]].items = np.append(monkey.items[filt], monkeys[monkey.test_monkeys[0]].items)\n",
    "            monkeys[monkey.test_monkeys[1]].items = np.append(monkey.items[~filt], monkeys[monkey.test_monkeys[1]].items)\n",
    "            monkey.items = np.array([])"
   ]
  },
  {
   "cell_type": "code",
   "execution_count": 10,
   "metadata": {},
   "outputs": [],
   "source": [
    "inspections = []\n",
    "for monkey in monkeys:\n",
    "    inspections.append(monkey.inspections)"
   ]
  },
  {
   "cell_type": "code",
   "execution_count": 11,
   "metadata": {},
   "outputs": [],
   "source": [
    "inspections.sort()"
   ]
  },
  {
   "cell_type": "code",
   "execution_count": 12,
   "metadata": {},
   "outputs": [
    {
     "data": {
      "text/plain": [
       "29703395016"
      ]
     },
     "execution_count": 12,
     "metadata": {},
     "output_type": "execute_result"
    }
   ],
   "source": [
    "inspections[-1] * inspections[-2]"
   ]
  }
 ],
 "metadata": {
  "kernelspec": {
   "display_name": "Python 3.9.13 ('base')",
   "language": "python",
   "name": "python3"
  },
  "language_info": {
   "codemirror_mode": {
    "name": "ipython",
    "version": 3
   },
   "file_extension": ".py",
   "mimetype": "text/x-python",
   "name": "python",
   "nbconvert_exporter": "python",
   "pygments_lexer": "ipython3",
   "version": "3.9.13"
  },
  "orig_nbformat": 4,
  "vscode": {
   "interpreter": {
    "hash": "40d3a090f54c6569ab1632332b64b2c03c39dcf918b08424e98f38b5ae0af88f"
   }
  }
 },
 "nbformat": 4,
 "nbformat_minor": 2
}
